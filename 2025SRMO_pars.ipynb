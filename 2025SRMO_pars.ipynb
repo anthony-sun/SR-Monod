{
 "cells": [
  {
   "cell_type": "markdown",
   "metadata": {},
   "source": [
    "# 2025 Symbolic regression Monod paper\n",
    "# Generating simulation parameters"
   ]
  },
  {
   "cell_type": "markdown",
   "metadata": {},
   "source": [
    "## Input parameters"
   ]
  },
  {
   "cell_type": "code",
   "execution_count": 1,
   "metadata": {},
   "outputs": [],
   "source": [
    "cwd = \"/scratch/project_2000746/anthosun/2025SRMO/pars\" # repository to save simulation parameters\n",
    "\n",
    "nrescs = 5 # max number of resource-dimensions\n",
    "nstrns = 16 # number of bacterial strains\n",
    "\n",
    "concmax = 2. # highest medium-concentration\n",
    "nconcs = 20 # number of medium-concentrations\n",
    "concdil = 4 / 5 # dilution factor between medium-concentration levels"
   ]
  },
  {
   "cell_type": "code",
   "execution_count": 2,
   "metadata": {},
   "outputs": [],
   "source": [
    "numin = -1e-3\n",
    "numax = -1e-5\n",
    "gmmin = 0.\n",
    "gmmax = 1e-3\n",
    "K_min = 0.\n",
    "K_max = 1e-3\n",
    "qmmin = 0.\n",
    "qmmax = 1e-3"
   ]
  },
  {
   "cell_type": "markdown",
   "metadata": {},
   "source": [
    "## Parameter generation"
   ]
  },
  {
   "cell_type": "code",
   "execution_count": 3,
   "metadata": {},
   "outputs": [],
   "source": [
    "import numpy as np\n",
    "from numpy.random import default_rng"
   ]
  },
  {
   "cell_type": "code",
   "execution_count": 4,
   "metadata": {},
   "outputs": [],
   "source": [
    "concs = concdil**np.arange(nconcs) * concmax # medium-concentration range\n",
    "\n",
    "# resource-consumer model parameters\n",
    "\n",
    "rng = default_rng()\n",
    "\n",
    "nuxi = rng.uniform(low = numin, high = numax, size=(nrescs,nstrns), ) # production/extraction of resources\n",
    "gmix = rng.uniform(low = gmmin, high = gmmax, size=(nstrns,nrescs), )\n",
    "K_ix = rng.uniform(low = K_min, high = K_max, size=(nstrns,nrescs), )\n",
    "qm_i = rng.uniform(low = qmmin, high = qmmax, size=(2,nstrns,), ) # adjustment function"
   ]
  },
  {
   "cell_type": "markdown",
   "metadata": {},
   "source": [
    "## Saving"
   ]
  },
  {
   "cell_type": "code",
   "execution_count": 5,
   "metadata": {},
   "outputs": [],
   "source": [
    "np.savetxt(\"{}/concs.csv\".format(cwd,), concs, delimiter=\",\")\n",
    "np.savetxt(\"{}/nuxi.csv\".format(cwd,), nuxi, delimiter=\",\")\n",
    "np.savetxt(\"{}/K_ix.csv\".format(cwd,), K_ix, delimiter=\",\")\n",
    "np.savetxt(\"{}/gmix.csv\".format(cwd,), gmix, delimiter=\",\")\n",
    "np.savetxt(\"{}/qm_i.csv\".format(cwd,), qm_i, delimiter=\",\")"
   ]
  }
 ],
 "metadata": {
  "kernelspec": {
   "display_name": "Python 3 (ipykernel)",
   "language": "python",
   "name": "python3"
  },
  "language_info": {
   "codemirror_mode": {
    "name": "ipython",
    "version": 3
   },
   "file_extension": ".py",
   "mimetype": "text/x-python",
   "name": "python",
   "nbconvert_exporter": "python",
   "pygments_lexer": "ipython3",
   "version": "3.10.14"
  }
 },
 "nbformat": 4,
 "nbformat_minor": 4
}
