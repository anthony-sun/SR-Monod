{
 "cells": [
  {
   "cell_type": "markdown",
   "metadata": {},
   "source": [
    "# 2025 Symbolic regression Monod paper\n",
    "# Posttreatment of symbolic regression equations"
   ]
  },
  {
   "cell_type": "markdown",
   "metadata": {},
   "source": [
    "## Locating data"
   ]
  },
  {
   "cell_type": "code",
   "execution_count": null,
   "metadata": {},
   "outputs": [],
   "source": [
    "cwd = \"/scratch/project_2000746/anthosun/2025SRMO\""
   ]
  },
  {
   "cell_type": "code",
   "execution_count": null,
   "metadata": {},
   "outputs": [],
   "source": [
    "import numpy as np\n",
    "import scipy as sp\n",
    "import pandas as pd\n",
    "import matplotlib.pyplot as plt\n",
    "#import seaborn as sns\n",
    "#import itertools\n",
    "from sympy import *\n",
    "from IPython.display import display # to display symbolic expressions\n",
    "\n",
    "import os\n",
    "#import string\n",
    "#from collections import Counter"
   ]
  },
  {
   "cell_type": "markdown",
   "metadata": {},
   "source": [
    "# Functions"
   ]
  },
  {
   "cell_type": "code",
   "execution_count": null,
   "metadata": {},
   "outputs": [],
   "source": [
    "from sympy.core.numbers import Integer, NegativeOne\n",
    "from sympy.functions.elementary.complexes import sign\n",
    "from sympy.physics.units.quantities import Quantity\n",
    "from sympy.solvers.ode import constantsimp"
   ]
  },
  {
   "cell_type": "code",
   "execution_count": null,
   "metadata": {},
   "outputs": [],
   "source": [
    "t, C, n, S = symbols(\"t C n S\", nonegative=True)\n",
    "U, F = symbols(\"U F\", positive=True)\n",
    "Nc, gmax, S0 = symbols(\"Nc gmax S0\", positive=True)\n",
    "nu = symbols(\"nu\", real=True)\n",
    "\n",
    "symbols_dict = {\"C\": C,\n",
    "                \"F\": F,\n",
    "                \"n\": n,\n",
    "                \"S\": S,\n",
    "                \"t\": t,\n",
    "                \"U\": U,\n",
    "               }"
   ]
  },
  {
   "cell_type": "code",
   "execution_count": null,
   "metadata": {},
   "outputs": [],
   "source": [
    "def is_a_remarkable_number(a):\n",
    "    return not isinstance(a, NegativeOne) and isinstance(a, Number)\n",
    "\n",
    "def contains_remarkable_number(expr):\n",
    "    \n",
    "    for a in list(expr.atoms()):\n",
    "        if is_a_remarkable_number(a):\n",
    "            return True\n",
    "            \n",
    "    return False\n",
    "\n",
    "def replace_numbers_by_Ks(expr):\n",
    "    x = 1\n",
    "    for a in preorder_traversal(expr):\n",
    "        if is_a_remarkable_number(a):\n",
    "            expr = expr.subs(a, sign(a) * Quantity(\"K{}\".format(x)))\n",
    "            x +=1\n",
    "            \n",
    "    return expr\n",
    "\n",
    "def count_Quantitys(expr):\n",
    "\n",
    "    out = 0\n",
    "    for a in preorder_traversal(expr):\n",
    "        if isinstance(a, Quantity):\n",
    "            out += 1\n",
    "            \n",
    "    return out\n",
    "\n",
    "def count_parameters(expr):\n",
    "    \n",
    "    while contains_remarkable_number(expr):\n",
    "        expr = replace_numbers_by_Ks(expr)\n",
    "        expr = constantsimp(expr, [i for i in expr.atoms(Quantity)]) # simplify constants\n",
    "        out = count_Quantitys(expr)\n",
    "    \n",
    "    return out"
   ]
  },
  {
   "cell_type": "code",
   "execution_count": null,
   "metadata": {},
   "outputs": [],
   "source": [
    "def dataframe_with_node_counts(eqns, # equations\n",
    "                               Sqns = None, # equations with S\n",
    "                              ):\n",
    "    exprs = []\n",
    "    Kxprs = []\n",
    "    node_counts = []\n",
    "    csts_counts = []\n",
    "    Sxprs = []\n",
    "    CorFs = []\n",
    "    \n",
    "    for i, expr in enumerate(eqns):\n",
    "        expr = simplify(parse_expr(expr, symbols_dict))\n",
    "        exprs.append(expr)\n",
    "        node_counts.append( count_expr_nodes(expr) )\n",
    "        \n",
    "        while contains_remarkable_number(expr):\n",
    "            expr = replace_numbers_by_Ks(expr)\n",
    "            expr = constantsimp(expr, [i for i in expr.atoms(Quantity)]) # simplify constants\n",
    "        Kxprs.append(expr)\n",
    "        csts_counts.append( count_Quantitys(expr) )\n",
    "        \n",
    "        if not Sqns is None:\n",
    "            expr = simplify(parse_expr(Sqns[i], symbols_dict))\n",
    "            Sxprs.append(expr)\n",
    "            CorFs.append( (C in expr.atoms()) or (F in expr.atoms()) )\n",
    "    \n",
    "    df = pd.DataFrame([exprs, node_counts, Kxprs, csts_counts,], index=[\"eq\", \"nd\", \"Kq\", \"ct\"], ) if Sqns is None else pd.DataFrame([exprs, node_counts, Kxprs, csts_counts, Sxprs, CorFs], index=[\"eq\", \"nd\", \"Kq\", \"ct\", \"eq(S)\", \"C?F?\"])\n",
    "    \n",
    "    return df.T"
   ]
  },
  {
   "cell_type": "code",
   "execution_count": null,
   "metadata": {},
   "outputs": [],
   "source": [
    "def retrieve_loss_norm(name):\n",
    "\n",
    "    fn = \"/scratch/project_2000746/anthosun/2024SRMO/data/{}.csv\".format(name)\n",
    "    norm_factor = np.var(pd.read_csv(fn)[\"rho\"], ddof=1)\n",
    "    \n",
    "    return norm_factor"
   ]
  },
  {
   "cell_type": "markdown",
   "metadata": {},
   "source": [
    "# Extract parameter number from models learnt using template 1 (no constraints)"
   ]
  },
  {
   "cell_type": "code",
   "execution_count": null,
   "metadata": {
    "scrolled": true
   },
   "outputs": [],
   "source": [
    "cwd2 = \"/scratch/project_2000746/kiciadov/SR_monod/real_data_inference/results\"\n",
    "template = cwd2[-1]\n",
    "\n",
    "files = []\n",
    "for file in os.listdir(cwd2):\n",
    "    if file[-4:] == \".csv\":\n",
    "        files.append(os.path.join(cwd2, file))\n",
    "        \n",
    "for f, file in enumerate(files):\n",
    "    data = pd.read_csv(file, index_col=False )\n",
    "    file = file[-file[::-1].index(\"/\"):]\n",
    "    name = file[:file.index(\"_\")]\n",
    "    \n",
    "    eqns = data[\"Equation\"].apply(lambda x: x.replace(\"^\", \"**\") )\n",
    "\n",
    "    exprs = []\n",
    "    csts_counts = []\n",
    "    for i, expr in enumerate(eqns):\n",
    "        expr = simplify(parse_expr(expr, symbols_dict))\n",
    "        exprs.append(expr)\n",
    "        csts_counts.append( count_parameters(expr) ) # count constants in each model\n",
    "        \n",
    "    data[\"csts\"] = csts_counts\n",
    "    data[\"strn\"] = name\n",
    "    data[\"feat\"] = file[file.index(\"_\")+1:file.index(\"_rho\")]\n",
    "    #mega = df if f == 0 else pd.concat([mega, df], axis = 0)\n",
    "    data.to_csv(\"{}/SR_naive_results/{}\".format(cwd, file), index=False)"
   ]
  },
  {
   "cell_type": "markdown",
   "metadata": {},
   "source": [
    "# Posttreatment of retrieved expressions"
   ]
  },
  {
   "cell_type": "markdown",
   "metadata": {},
   "source": [
    "## Template 1"
   ]
  },
  {
   "cell_type": "code",
   "execution_count": null,
   "metadata": {},
   "outputs": [],
   "source": [
    "cwd2 = \"/scratch/project_2000746/kiciadov/SR_monod/real_data_inference/v1.4.0/results/final_model_1\"\n",
    "template = cwd2[-1]\n",
    "\n",
    "files = []\n",
    "for file in os.listdir(cwd2):\n",
    "    if os.path.isdir(os.path.join(cwd2, file)):\n",
    "        files.append(os.path.join(cwd2, file))\n",
    "\n",
    "for file in files:\n",
    "    name = file[-file[::-1].index(\"-\"):]\n",
    "    eqns = pd.read_csv(file + \"/hall_of_fame.csv\", index_col=False )\n",
    "    \n",
    "    eqns[\"eq\"] = eqns[\"Equation\"].apply(lambda x: x.replace(\"^\", \"**\") )\n",
    "    eqns[\"eq(S)\"] = eqns[\"eq\"].apply(lambda expr: str(expand(simplify(parse_expr(expr, symbols_dict)))).replace(\"C*F\", \"S\").replace(\"F*C\", \"S\"), )\n",
    "    \n",
    "    df = dataframe_with_node_counts(eqns[\"eq\"], Sqns = eqns[\"eq(S)\"])\n",
    "    df = pd.concat([eqns[\"Loss\"] * retrieve_loss_norm(name), df], axis=1, )\n",
    "    df.to_csv(\"{}/sreq/template_{}_{}.csv\".format(cwd, template, name))"
   ]
  },
  {
   "cell_type": "markdown",
   "metadata": {},
   "source": [
    "## Template 2"
   ]
  },
  {
   "cell_type": "code",
   "execution_count": null,
   "metadata": {},
   "outputs": [],
   "source": [
    "cwd2 = \"/scratch/project_2000746/kiciadov/SR_monod/real_data_inference/v1.4.0/results/final_model_2\"\n",
    "template = cwd2[-1]\n",
    "\n",
    "files = []\n",
    "for file in os.listdir(cwd2):\n",
    "    if os.path.isdir(os.path.join(cwd2, file)):\n",
    "        files.append(os.path.join(cwd2, file))\n",
    "\n",
    "for file in files:\n",
    "    name = file[-file[::-1].index(\"-\"):]\n",
    "    eqns = pd.read_csv(file + \"/hall_of_fame.csv\", index_col=False )\n",
    "    \n",
    "    eqns[\"Equation\"] = eqns[\"Equation\"].apply(lambda x: x.replace(\"^\", \"**\") )\n",
    "    eqns.loc[:,[\"q\", \"m\", \"g\",]] = eqns.loc[:,\"Equation\"].apply(lambda x: [y[y.index(\"= \")+2:] for y in x.split(\";\")] ).to_list()\n",
    "    eqns[\"gr\"] = eqns[\"g\"].apply(lambda x: x.replace(\"#1\", \"F\").replace(\"#2\", \"C\") )\n",
    "    eqns[\"gr(S)\"] = eqns[\"gr\"].apply(lambda expr: str(expand(simplify(parse_expr(expr, symbols_dict)))).replace(\"C*F\", \"S\").replace(\"F*C\", \"S\"), )\n",
    "    eqns[\"ad\"] = eqns.loc[:,[\"q\", \"m\"]].apply(lambda x: \"{}/({}+U**{})\".format(x.iloc[0], x.iloc[0], x.iloc[1],) , axis=1 )\n",
    "    eqns[\"eq\"] = eqns.loc[:,[\"ad\", \"gr\"]].apply(lambda x: \"{}*{}\".format(x.iloc[0], x.iloc[1],) , axis=1 )\n",
    "    eqns[\"eq(S)\"] = eqns.loc[:,[\"ad\", \"gr(S)\"]].apply(lambda x: \"{}*{}\".format(x.iloc[0], x.iloc[1],) , axis=1 )\n",
    "    \n",
    "    df = dataframe_with_node_counts(eqns[\"eq\"], Sqns = eqns[\"eq(S)\"])\n",
    "    df = pd.concat([eqns[\"Loss\"] * retrieve_loss_norm(name), df], axis=1, )\n",
    "    df.to_csv(\"{}/sreq/template_{}_{}.csv\".format(cwd, template, name))"
   ]
  },
  {
   "cell_type": "markdown",
   "metadata": {},
   "source": [
    "## Template 3"
   ]
  },
  {
   "cell_type": "code",
   "execution_count": null,
   "metadata": {},
   "outputs": [],
   "source": [
    "cwd2 = \"/scratch/project_2000746/kiciadov/SR_monod/real_data_inference/v1.4.0/results/final_model_3\"\n",
    "template = cwd2[-1]\n",
    "\n",
    "files = []\n",
    "for file in os.listdir(cwd2):\n",
    "    if os.path.isdir(os.path.join(cwd2, file)):\n",
    "        files.append(os.path.join(cwd2, file))\n",
    "\n",
    "for file in files:\n",
    "    name = file[-file[::-1].index(\"-\"):]\n",
    "    eqns = pd.read_csv(file + \"/hall_of_fame.csv\", index_col=False )\n",
    "    \n",
    "    eqns[\"Equation\"] = eqns[\"Equation\"].apply(lambda x: x.replace(\"^\", \"**\") )\n",
    "    eqns.loc[:,[\"q\", \"m\", \"g\", \"h\"]] = eqns.loc[:,\"Equation\"].apply(lambda x: [y[y.index(\"= \")+2:] for y in x.split(\";\")] ).to_list()\n",
    "    eqns[\"h\"] = eqns[\"h\"].apply(lambda x: x.replace(\"#1\", \"F\") )\n",
    "    eqns[\"gr\"] = eqns.loc[:,[\"g\", \"h\"]].apply(lambda x: x.iloc[0].replace(\"#1\", \"(C*({}))\".format(x.iloc[1])), axis=1 )\n",
    "    eqns[\"h(S)\"] = eqns[\"h\"].apply(lambda expr: str(expand(C * simplify(parse_expr(expr, symbols_dict)))).replace(\"C*F\", \"S\").replace(\"F*C\", \"S\"), )\n",
    "    eqns[\"gr(S)\"] = eqns.loc[:,[\"g\", \"h(S)\"]].apply(lambda x: x.iloc[0].replace(\"#1\", x.iloc[1]), axis=1 )\n",
    "    eqns[\"ad\"] = eqns.loc[:,[\"q\", \"m\"]].apply(lambda x: \"{}/({}+U**{})\".format(x.iloc[0], x.iloc[0], x.iloc[1],) , axis=1 )\n",
    "    eqns[\"eq\"] = eqns.loc[:,[\"ad\", \"gr\"]].apply(lambda x: \"{}*{}\".format(x.iloc[0], x.iloc[1],) , axis=1 )\n",
    "    eqns[\"eq(S)\"] = eqns.loc[:,[\"ad\", \"gr(S)\"]].apply(lambda x: \"{}*{}\".format(x.iloc[0], x.iloc[1],) , axis=1 )\n",
    "    \n",
    "    df = dataframe_with_node_counts(eqns[\"eq\"], Sqns = eqns[\"eq(S)\"])\n",
    "    df = pd.concat([eqns[\"Loss\"] * retrieve_loss_norm(name), df], axis=1, )\n",
    "    df.to_csv(\"{}/sreq/template_{}_{}.csv\".format(cwd, template, name))"
   ]
  },
  {
   "cell_type": "markdown",
   "metadata": {},
   "source": [
    "## Collect all templates into a single file"
   ]
  },
  {
   "cell_type": "code",
   "execution_count": null,
   "metadata": {},
   "outputs": [],
   "source": [
    "files = []\n",
    "for file in os.listdir(cwd):\n",
    "    files.append(file[-file[::-1].index(\"_\"):])\n",
    "files = list(set(files))"
   ]
  },
  {
   "cell_type": "code",
   "execution_count": null,
   "metadata": {},
   "outputs": [],
   "source": [
    "for file in files:\n",
    "    \n",
    "    for template in range(3):\n",
    "        eqs = pd.read_csv(\"{}/sreq/template_{}_{}\".format(cwd, template + 1, file), index_col=False )\n",
    "        \n",
    "        for i, nd in enumerate(sorted(list(eqs[\"ct\"].unique()))):\n",
    "            subdf = eqs.loc[eqs[\"ct\"] == nd]\n",
    "            df = subdf.loc[subdf[\"Loss\"].idxmin(),:] if i == 0 else pd.concat([df, subdf.loc[subdf[\"Loss\"].idxmin(), :],], axis=1)\n",
    "        df.loc[\"template\"] = template\n",
    "        df.loc[\"logloss\"] = np.log10( df.loc[\"Loss\"].astype(float) )\n",
    "        eqns = df if template == 0 else pd.concat([eqns, df], axis=1)\n",
    "    \n",
    "    eqns = eqns.T\n",
    "    eqns.to_csv(\"{}/symb/{}\".format(cwd, file))"
   ]
  },
  {
   "cell_type": "markdown",
   "metadata": {},
   "source": [
    "# Pareto front Fig 4"
   ]
  },
  {
   "cell_type": "code",
   "execution_count": null,
   "metadata": {},
   "outputs": [],
   "source": [
    "colours = [\"b\", \"g\", \"magenta\"]\n",
    "\n",
    "labels = [r\"$\\rho_{obs} (C, N_c, t)$\",\n",
    "          r\"$\\alpha (t) \\times \\rho (C,N_c)$\",\n",
    "          r\"$\\alpha (t) \\times \\rho [ C \\times h (N_c) ]$\",\n",
    "         ]\n",
    "\n",
    "file = \"Rs0i2160.csv\"\n",
    "name = \"Rs0i2160\""
   ]
  },
  {
   "cell_type": "code",
   "execution_count": null,
   "metadata": {},
   "outputs": [],
   "source": [
    "data = pd.read_csv(\"{}/symb/{}\".format(cwd, file), index_col=False )\n",
    "data[\"Kq\"] = data[\"Kq\"].apply(lambda x: str(x).replace(\"F\", \"(e**-Nc)\").replace(\"U\", \"(e**-t)\"), )\n",
    "data[\"colour\"] = data[\"template\"].apply(lambda x: colours[x])\n",
    "xmin, xmax, ymin, ymax = max(data[\"ct\"].min(), 0), data[\"ct\"].max(), data[\"logloss\"].min(), data[\"logloss\"].max()\n",
    "xrange, yrange = abs(xmax - xmin), abs(ymax - ymin)\n",
    "xmin, xmax, ymin, ymax = xmin - 0.05 * xrange, xmax + 0.05 * xrange, ymin - 0.05 * yrange, ymax + 0.05 * yrange"
   ]
  },
  {
   "cell_type": "code",
   "execution_count": null,
   "metadata": {},
   "outputs": [],
   "source": [
    "fig = plt.figure(figsize=(10,5), constrained_layout=True)\n",
    "ax = fig.add_subplot()\n",
    "\n",
    "# scatter plot\n",
    "for c, colour in enumerate(data[\"colour\"].unique()):\n",
    "    df = data.loc[data[\"colour\"] == colour]\n",
    "    ax.scatter(df[\"ct\"], df[\"logloss\"], c=colour, edgecolor=df[\"colour\"], label=labels[c], alpha=0.5, zorder = c, )\n",
    "\n",
    "# equations\n",
    "for j in range(data.shape[0]):\n",
    "    expr = simplify(parse_expr(data.loc[j,\"Kq\"], symbols_dict))\n",
    "    tpl = data.loc[j,\"template\"]\n",
    "    ax.annotate(r\"${}$\".format(latex(expr)),\n",
    "                xy = (data.loc[j,\"ct\"], data.loc[j,\"logloss\"]),\n",
    "                xytext = (data.loc[j,\"ct\"] + [0, 0, 0][tpl % 3] * xrange,\n",
    "                          data.loc[j,\"logloss\"] + [0, 0, 0][tpl % 3] * yrange,\n",
    "                         ),\n",
    "               )\n",
    "        \n",
    "# layout\n",
    "ax.legend(loc=\"best\", fancybox=True, title=\"symbolic regression template\")\n",
    "ax.set(xlim=(xmin, xmax), xticks=np.arange(data[\"ct\"].max())+1, ylim=(ymin, ymax), xlabel=\"number of model parameters\", ylabel=\"logarithm of mean absolute error\", title=name)\n",
    "### SAVING\n",
    "path = \"{}/symb/Pareto_{}.svg\".format(cwd, name)\n",
    "plt.savefig(path, facecolor='w', edgecolor='w', transparent=False, bbox_inches=\"tight\")\n",
    "plt.show()"
   ]
  },
  {
   "cell_type": "code",
   "execution_count": null,
   "metadata": {},
   "outputs": [],
   "source": []
  }
 ],
 "metadata": {
  "kernelspec": {
   "display_name": "Python 3 (ipykernel)",
   "language": "python",
   "name": "python3"
  },
  "language_info": {
   "codemirror_mode": {
    "name": "ipython",
    "version": 3
   },
   "file_extension": ".py",
   "mimetype": "text/x-python",
   "name": "python",
   "nbconvert_exporter": "python",
   "pygments_lexer": "ipython3",
   "version": "3.10.14"
  }
 },
 "nbformat": 4,
 "nbformat_minor": 4
}
