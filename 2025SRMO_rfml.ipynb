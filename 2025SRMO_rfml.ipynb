{
 "cells": [
  {
   "cell_type": "markdown",
   "metadata": {},
   "source": [
    "# 2025 Symbolic regression Monod paper\n",
    "# Running random-forest machine-learning"
   ]
  },
  {
   "cell_type": "markdown",
   "metadata": {},
   "source": [
    "## Locating data"
   ]
  },
  {
   "cell_type": "code",
   "execution_count": null,
   "metadata": {},
   "outputs": [],
   "source": [
    "cwd = \"/scratch/project_2000746/anthosun/2025SRMO\""
   ]
  },
  {
   "cell_type": "code",
   "execution_count": null,
   "metadata": {},
   "outputs": [],
   "source": [
    "import numpy as np\n",
    "import pandas as pd\n",
    "import matplotlib.pyplot as plt\n",
    "from os import listdir\n",
    "from sklearn.ensemble import RandomForestRegressor"
   ]
  },
  {
   "cell_type": "code",
   "execution_count": null,
   "metadata": {},
   "outputs": [],
   "source": [
    "files = sorted(listdir(\"{}/data\".format(cwd)))"
   ]
  },
  {
   "cell_type": "markdown",
   "metadata": {},
   "source": [
    "## Functions for the random-forest regression loop"
   ]
  },
  {
   "cell_type": "code",
   "execution_count": null,
   "metadata": {},
   "outputs": [],
   "source": [
    "def random_forest_regression(RFregressor, name, feature_set, train_x, train_y, test_x, test_y, ):\n",
    "    \n",
    "    assert len(feature_set) > 1, \"Function random_forest_regression was not written for single feature feature_set!\"\n",
    "    local_column_name = (name[0], name[name.index(\"s\")+1:name.index(\"i\")], name[name.index(\"i\")+1:], str(feature_set), )\n",
    "    \n",
    "    # regression\n",
    "    m = f.fit(train_x[feature_set], train_y)\n",
    "    \n",
    "    # RFR feature importances\n",
    "    local_results = pd.DataFrame([RFregressor.feature_importances_, # feature importances\n",
    "                                  np.std([tree.feature_importances_ for tree in RFregressor.estimators_], axis=0), # std deviations\n",
    "                                 ], index=[\"imp\", \"std\"], columns=feature_set).unstack()\n",
    "    \n",
    "    # RFR performance results\n",
    "    local_results.loc[(\"score\", \"train\")] = m.score(train_x[feature_set], train_y)\n",
    "    local_results.loc[(\"score\", \"test\")] = m.score(test_x[feature_set], test_y)\n",
    "    \n",
    "    local_results = pd.DataFrame(local_results, columns=[local_column_name])\n",
    "    \n",
    "    return m, local_results"
   ]
  },
  {
   "cell_type": "code",
   "execution_count": null,
   "metadata": {},
   "outputs": [],
   "source": [
    "def R2_figure(name, feature_sets, data_obs, data_pred, data_colour,):\n",
    "    \n",
    "    assert len(feature_sets) == 4\n",
    "    \n",
    "    fig = plt.figure(figsize=(8,8), constrained_layout=True)\n",
    "    fig.suptitle(name)\n",
    "    fig.supxlabel(r\"Test data\")\n",
    "    fig.supylabel(r\"Prediction\")\n",
    "    gs = fig.add_gridspec(2, 2)\n",
    "    \n",
    "    for fts, feature_set in enumerate(feature_sets): # partial R2-plotting\n",
    "        ax = fig.add_subplot(gs[fts//2, fts%2])\n",
    "        ax.plot([xmin-1, xmax+1], [xmin-1, xmax+1], c=\"k\", alpha=0.3)\n",
    "        ax.scatter(data_obs, data_pred[:,fts], s=3, c=data_colour) # plot test dataset\n",
    "        ax.set_xlim(xmin, xmax)\n",
    "        ax.set_ylim(xmin, xmax)\n",
    "        ax.set_xticks([])\n",
    "        ax.set_yticks([])\n",
    "        ax.set_ylabel(feature_set)\n",
    "        \n",
    "    # saving R2-plot\n",
    "    savename = \"{}/rfml/plot_RFR_R2/{}.png\".format(cwd, name)\n",
    "    plt.savefig(savename, facecolor='w', edgecolor='w', transparent=False, bbox_inches=\"tight\")\n",
    "    plt.close()"
   ]
  },
  {
   "cell_type": "code",
   "execution_count": null,
   "metadata": {},
   "outputs": [],
   "source": [
    "def rho_v_t_figure(name, feature_sets, data_time, data_obs, data_pred, data_colour,):\n",
    "    # [rho v. t]-figure\n",
    "    \n",
    "    assert len(feature_sets) == 4\n",
    "    \n",
    "    fig = plt.figure(figsize=(8,8), constrained_layout=True)\n",
    "    fig.suptitle(name)\n",
    "    fig.supxlabel(r\"Test data\")\n",
    "    fig.supylabel(r\"Prediction\")\n",
    "    gs = fig.add_gridspec(2, 2)\n",
    "    \n",
    "    for fts, feature_set in enumerate(feature_sets): # partial [rho v. t]-plotting\n",
    "        ax = fig.add_subplot(gs[fts//2, fts%2])\n",
    "        ax.plot(data_time, data_obs, alpha=0.1, c=\"k\") # plot test dataset\n",
    "        ax.scatter(data_time, data_pred[:,fts], s=3, c=data_colour) # plot test dataset\n",
    "        ax.set_xticks([])\n",
    "        ax.set_yticks([])\n",
    "        ax.set_ylabel(feature_set)\n",
    "        \n",
    "    # saving [rho v. t]-plot\n",
    "    savename = \"{}/rfml/plot_RFR_rhovt/{}.png\".format(cwd, name)\n",
    "    plt.savefig(savename, facecolor='w', edgecolor='w', transparent=False, bbox_inches=\"tight\")\n",
    "    plt.close()"
   ]
  },
  {
   "cell_type": "markdown",
   "metadata": {},
   "source": [
    "## Random-forest regression loop"
   ]
  },
  {
   "cell_type": "code",
   "execution_count": null,
   "metadata": {},
   "outputs": [],
   "source": [
    "n_estimators = 100\n",
    "max_depth = 9 # max_depth for random-forest regressor trees\n",
    "\n",
    "testing_part = 4 # testing 1/4, training based on 3/4\n",
    "assert isinstance(testing_part, int)"
   ]
  },
  {
   "cell_type": "code",
   "execution_count": null,
   "metadata": {},
   "outputs": [],
   "source": [
    "f = RandomForestRegressor(n_estimators = n_estimators, max_depth = max_depth)\n",
    "\n",
    "feature_sets = [[\"N\", \"C\"],\n",
    "                [\"N\", \"C\", \"t\"],\n",
    "                [\"Nc\", \"C\"],\n",
    "                [\"Nc\", \"C\", \"t\"],\n",
    "               ]\n",
    "index = {(\"score\", \"train\"), (\"score\", \"test\")}\n",
    "for feature_set in feature_sets:\n",
    "    for feature in feature_set:\n",
    "        index.add((feature, \"imp\"))\n",
    "        index.add((feature, \"std\"))\n",
    "\n",
    "index = pd.MultiIndex.from_tuples(index, names = [\"feat\", \"val\"])"
   ]
  },
  {
   "cell_type": "code",
   "execution_count": null,
   "metadata": {
    "scrolled": true
   },
   "outputs": [],
   "source": [
    "RFR_results = pd.DataFrame(index=index)\n",
    "RFR_trees = np.zeros((len(files), len(feature_sets), n_estimators, 4)) # (node count, capacity, maxdepth, n leaves)\n",
    "\n",
    "for fil, file in enumerate(files):\n",
    "    \n",
    "    name = file[:file.index(\".csv\")]\n",
    "    print(name + \"     \", end=\"\\r\")\n",
    "    data = pd.read_csv(\"{}/data/{}\".format(cwd, file), sep=\",\")\n",
    "\n",
    "    # data splitting into train/test sets\n",
    "    concs = sorted(list(data[\"C\"].unique()))\n",
    "    data[\"colour\"] = data[\"C\"].apply(lambda x: concs.index(x))\n",
    "    mask_test = data[\"colour\"] % testing_part == 0 # concentration values used for testing the RFR\n",
    "    data_train, data_test = data[~mask_test], data[mask_test]\n",
    "    \n",
    "    R2_ys = np.zeros((data.shape[0], len(feature_sets)))\n",
    "    xmin, xmax = data[\"rho\"].min(), data[\"rho\"].max()\n",
    "    \n",
    "    for fts, feature_set in enumerate(feature_sets):\n",
    "        m, local_results = random_forest_regression(f, name, feature_set,\n",
    "                                                    data_train, data_train[\"rho\"],\n",
    "                                                    data_test, data_test[\"rho\"],)\n",
    "        \n",
    "        tree_traits = [[tree.tree_.node_count, tree.tree_.capacity, tree.tree_.max_depth, tree.tree_.n_leaves,] for tree in m.estimators_]\n",
    "        RFR_trees[fil,fts] = np.array(tree_traits)\n",
    "        \n",
    "        RFR_results = pd.concat([RFR_results, local_results], axis=1)\n",
    "        \n",
    "        R2_ys[:,fts] = m.predict(data[feature_set]) # prediction on the whole dataset\n",
    "        \n",
    "    xmin, xmax = min(xmin, np.min(R2_ys)), max(xmax, np.max(R2_ys))\n",
    "    \n",
    "    R2_figure(name, feature_sets, data_test[\"rho\"], R2_ys[mask_test], data_test[\"colour\"],)\n",
    "    rho_v_t_figure(name, feature_sets, data_test[\"t\"], data_test[\"rho\"], R2_ys[mask_test], data_test[\"colour\"],)\n",
    "\n",
    "np.save(\"{}/rfml/RFR_trees{}.npy\".format(cwd, \"\" if max_depth is None else max_depth), RFR_trees)"
   ]
  },
  {
   "cell_type": "code",
   "execution_count": null,
   "metadata": {},
   "outputs": [],
   "source": [
    "RFR_results.sort_index(axis=0, inplace=True)\n",
    "RFR_results.sort_index(axis=1, inplace=True)\n",
    "super_index = pd.MultiIndex.from_tuples(RFR_results.columns, names=[\"code\", \"resc\", \"strn\", \"feat\"])\n",
    "RFR_results.columns = super_index\n",
    "RFR_results.to_csv(\"{}/rfml/RFR_results{}.csv\".format(cwd, \"\" if max_depth is None else max_depth), sep=\",\", index=True)"
   ]
  },
  {
   "cell_type": "markdown",
   "metadata": {},
   "source": [
    "## Visualisation of feature importances Fig. S3, S4"
   ]
  },
  {
   "cell_type": "code",
   "execution_count": null,
   "metadata": {},
   "outputs": [],
   "source": [
    "max_depth = None # max_depth for random-forest regressor trees"
   ]
  },
  {
   "cell_type": "code",
   "execution_count": null,
   "metadata": {},
   "outputs": [],
   "source": [
    "RFR_results = pd.read_csv(\"{}/rfml/RFR_results{}.csv\".format(cwd, \"\" if max_depth is None else max_depth), sep=\",\", header=[0,1,2,3], index_col=[0,1], )\n",
    "\n",
    "feats = [\"['N', 'C']\",\n",
    "         \"['N', 'C', 't']\",\n",
    "         \"['Nc', 'C']\",\n",
    "         \"['Nc', 'C', 't']\",\n",
    "        ]\n",
    "\n",
    "df1 = RFR_results.fillna(0).T\n",
    "\n",
    "df = pd.DataFrame()\n",
    "df[\"R2NorNc\"] = df1[[(\"N\", \"imp\"), (\"Nc\", \"imp\")]].sum(axis=1) * df1[(\"score\", \"test\")]\n",
    "df[\"R2other\"] = df1[[(\"C\", \"imp\"), (\"t\", \"imp\")]].sum(axis=1) * df1[(\"score\", \"test\")]\n",
    "df[\"train_score\"] = df1[(\"score\", \"train\")]\n",
    "df[\"std\"] = df1[[(\"N\", \"std\"), (\"Nc\", \"std\")]].sum(axis=1) * df1[(\"score\", \"test\")]\n",
    "\n",
    "df = df.reorder_levels([\"feat\",\"resc\",\"code\",\"strn\"]).sort_index()\n",
    "\n",
    "# reordering experimental strains and creating a dictionary of {resc:codes}\n",
    "freqorder = pd.read_csv(\"/scratch/project_2000746/anthosun/2024SRMO/raws/Frequencies.csv\", sep=\",\", index_col=0)[\"index\"]\n",
    "freqorder = freqorder.to_dict()\n",
    "\n",
    "indices = []\n",
    "codes = {}\n",
    "for index in list(df.index):\n",
    "    index = tuple([index[0], index[1], index[2], freqorder[int(index[3])] if index[2] == \"R\" else int(index[3])])\n",
    "    \n",
    "    if index[1] in codes:\n",
    "        codes[index[1]] = codes[index[1]] if index[2] in codes[index[1]] else codes[index[1]] + [index[2]]\n",
    "    else:\n",
    "        codes[index[1]] = [index[2]]\n",
    "    indices.append(index)\n",
    "\n",
    "df.index = pd.MultiIndex.from_tuples(indices, names = df.index.names)\n",
    "df.sort_index(inplace=True)"
   ]
  },
  {
   "cell_type": "code",
   "execution_count": null,
   "metadata": {},
   "outputs": [],
   "source": [
    "nstrns = 16\n",
    "rescs = sorted(list(df.index.get_level_values(\"resc\").unique()))"
   ]
  },
  {
   "cell_type": "code",
   "execution_count": null,
   "metadata": {},
   "outputs": [],
   "source": [
    "cmap = plt.colormaps[\"viridis\"]\n",
    "\n",
    "# figure\n",
    "fig = plt.figure(figsize=(10,10), constrained_layout=True)\n",
    "#fig.suptitle(r\"Population feature importance ($N$ or $N_c$) $\\times$ test score ($R^2$) for the random-forest regression{}\".format(\"\" if max_depth is None else \" (max depth: {})\".format(max_depth)))\n",
    "fig.supxlabel(r\"data set\")\n",
    "fig.supylabel(r\"feature set\")\n",
    "\n",
    "gs = fig.add_gridspec(len(feats), 1)\n",
    "\n",
    "for fts, feat in enumerate(feats):\n",
    "    \n",
    "    # plotting\n",
    "    ax = fig.add_subplot(gs[fts,:])\n",
    "    \n",
    "    width = 1\n",
    "    gap = width / 2\n",
    "    xoffset = width / 2\n",
    "    blocks = []\n",
    "    \n",
    "    for resc in rescs:\n",
    "        for code in codes[resc]:\n",
    "            blocks.append(\"{}s{}\".format(code, resc))\n",
    "            df1 = df.xs((feat, resc, code), level=[\"feat\", \"resc\", \"code\"])\n",
    "            # row parameters\n",
    "            x = xoffset + np.arange(nstrns) * width\n",
    "            colour = cmap( float(resc) / 6)\n",
    "            # drawing rectangles\n",
    "            yoffset = np.zeros(len(df1.index))\n",
    "            for h, heights in enumerate([\"R2NorNc\", \"R2other\"]):\n",
    "                p = ax.bar(x, df1[heights],\n",
    "                           width=width, bottom=yoffset, color=colour, alpha = [1, 0.5,][h], )\n",
    "                yoffset += df1[heights]\n",
    "            # drawing standard deviation lines\n",
    "            xs = x\n",
    "            ymins, ymaxs = np.array([[-1], [1.]]) @ df1[\"std\"].to_numpy()[np.newaxis,:] + df1[\"R2NorNc\"].to_numpy()[np.newaxis,:]\n",
    "            ax.vlines(xs, ymins, ymaxs, colors = nstrns*[\"w\"])\n",
    "            # marking train score\n",
    "            ax.scatter(x, df1[\"train_score\"], s=1, c=nstrns*[colour])\n",
    "            xoffset += nstrns * width + gap\n",
    "\n",
    "    # ax parameters\n",
    "    ax.set(xlim = (0, xoffset - gap - width / 2), ylim= (0, 1.05), xticks=[],\n",
    "           ylabel= {\"['N', 'C']\": r\"{$C$, $N$}\", \"['N', 'C', 't']\": r\"{$C$, $N$, $t$}\", \"['Nc', 'C']\": r\"{$C$, $N_c$}\", \"['Nc', 'C', 't']\": r\"{$C$, $N_c$, $t$}\", }[feat], )\n",
    "\n",
    "ticks = np.arange(len(blocks)) * (nstrns + gap) + nstrns / 2\n",
    "ax.set_xticks(ticks, labels= blocks)\n",
    "\n",
    "### SAVING\n",
    "name = \"{}/plot/RFR_feature_imp{}.png\".format(cwd, \"\" if max_depth is None else max_depth)\n",
    "plt.savefig(name, facecolor='w', edgecolor='w', transparent=False, bbox_inches=\"tight\")\n",
    "plt.show()"
   ]
  },
  {
   "cell_type": "markdown",
   "metadata": {},
   "source": [
    "## Visualisation of complexity (max depth) Fig. 2, S2"
   ]
  },
  {
   "cell_type": "code",
   "execution_count": null,
   "metadata": {},
   "outputs": [],
   "source": [
    "import seaborn as sns"
   ]
  },
  {
   "cell_type": "code",
   "execution_count": null,
   "metadata": {},
   "outputs": [],
   "source": [
    "xrange = [1, 2, 3, 4, 5, 6, 7, 8, 9, 10, 20, 30, 40, 50, None]"
   ]
  },
  {
   "cell_type": "code",
   "execution_count": null,
   "metadata": {},
   "outputs": [],
   "source": [
    "X = []\n",
    "step = 0.2\n",
    "for x in range(len(xrange)):\n",
    "    X += [x - 3*step/2, x - step/2, x + step/2, x + 3*step/2]"
   ]
  },
  {
   "cell_type": "code",
   "execution_count": null,
   "metadata": {},
   "outputs": [],
   "source": [
    "RFR_test = pd.DataFrame()\n",
    "RFR_train = pd.DataFrame()\n",
    "\n",
    "for max_depth in xrange:\n",
    "#    RFR_trees = np.load(\"{}/rfml/RFR_trees{}.npy\".format(cwd, \"\" if max_depth is None else max_depth)\n",
    "    \n",
    "    RFR_results = pd.read_csv(\"{}/rfml/RFR_results{}.csv\".format(cwd, \"\" if max_depth is None else max_depth), sep=\",\", header=[0,1,2,3], index_col=[0,1])\n",
    "#    max_depth = 0 if max_depth is None else int(max_depth)\n",
    "    \n",
    "    RFR_local = RFR_results.xs((\"score\", \"test\")).unstack()\n",
    "    RFR_local = pd.concat({str(max_depth): RFR_local}, names=[\"depth\"], axis=1)\n",
    "    RFR_test = pd.concat([RFR_test, RFR_local], axis=1)\n",
    "    \n",
    "    RFR_local = RFR_results.xs((\"score\", \"train\")).unstack()\n",
    "    RFR_local = pd.concat({str(max_depth): RFR_local}, names=[\"depth\"], axis=1)\n",
    "    RFR_train = pd.concat([RFR_train, RFR_local], axis=1)"
   ]
  },
  {
   "cell_type": "code",
   "execution_count": null,
   "metadata": {},
   "outputs": [],
   "source": [
    "RFR_test = RFR_test.swaplevel(axis=1)\n",
    "#RFR_train = RFR_train.swaplevel(axis=1)\n",
    "\n",
    "RFR_test.sort_index(axis=1, inplace=True,\n",
    "                    key=lambda x: x.map({\"['N', 'C']\": 1,\n",
    "                                         \"['N', 'C', 't']\": 2,\n",
    "                                         \"['Nc', 'C']\": 3,\n",
    "                                         \"['Nc', 'C', 't']\": 4,\n",
    "                                         \"1\": 1, \"2\": 2, \"3\": 3, \"4\": 4, \"5\": 5, \"6\": 6, \"7\": 7, \"8\": 8, \"9\": 9,\n",
    "                                         \"10\": 10, \"20\": 20, \"30\": 30, \"40\": 40, \"50\": 50, \"None\": 9999, }\n",
    "                                       ),\n",
    "                    )\n",
    "\n",
    "RFR_train.sort_index(axis=1, inplace=True,\n",
    "                     key=lambda x: x.map({\"['N', 'C']\": 1,\n",
    "                                          \"['N', 'C', 't']\": 2,\n",
    "                                          \"['Nc', 'C']\": 3,\n",
    "                                          \"['Nc', 'C', 't']\": 4,\n",
    "                                          \"1\": 1, \"2\": 2, \"3\": 3, \"4\": 4, \"5\": 5, \"6\": 6, \"7\": 7, \"8\": 8, \"9\": 9,\n",
    "                                          \"10\": 10, \"20\": 20, \"30\": 30, \"40\": 40, \"50\": 50, \"None\": 9999, }\n",
    "                                         ),\n",
    "                     )"
   ]
  },
  {
   "cell_type": "code",
   "execution_count": null,
   "metadata": {},
   "outputs": [],
   "source": [
    "code = \"R\"\n",
    "resc = 0\n",
    "title = \"Random Forest regression on experimental data\"\n",
    "\n",
    "abcisses = \"model complexity: maximal tree depth\"\n",
    "ordonnees = \"performance\"\n",
    "couleurs = \"feature set\"\n",
    "\n",
    "df = RFR_test.xs((code, str(resc)), level=[\"code\", \"resc\"]).melt()\n",
    "df.rename(columns = {\"depth\": abcisses, \"feat\": couleurs, \"value\": ordonnees}, inplace=True) # variable-names\n",
    "df[couleurs] = df[couleurs].apply(lambda x: {\"['N', 'C']\": r\"{$C$, $N$}\",\n",
    "                                             \"['N', 'C', 't']\": r\"{$C$, $N$, $t$}\",\n",
    "                                             \"['Nc', 'C']\": r\"{$C$, $N_c$}\",\n",
    "                                             \"['Nc', 'C', 't']\": r\"{$C$, $N_c$, $t$}\",\n",
    "                                             }[x])\n",
    "\n",
    "fig = plt.figure(figsize=(8,5), constrained_layout=True)\n",
    "gs = fig.add_gridspec(1, 1)\n",
    "\n",
    "ax = fig.add_subplot(gs[:,:],)\n",
    "ax = sns.boxplot(data=df, y=ordonnees, x=abcisses, hue=couleurs, showfliers=False, ax=ax, )\n",
    "ax.scatter(X, RFR_train.xs(code, level=\"code\").median(), marker=\"*\", c=\"k\", zorder=4,)\n",
    "\n",
    "ax.set_ylim(0,1)\n",
    "ax.set_title(title)\n",
    "\n",
    "### SAVING\n",
    "name = \"{}/plot/RFR_max_depths_{}s{}.png\".format(cwd, code, resc)\n",
    "plt.savefig(name, facecolor='w', edgecolor='w', transparent=False, bbox_inches=\"tight\")\n",
    "plt.show()"
   ]
  }
 ],
 "metadata": {
  "kernelspec": {
   "display_name": "Python 3 (ipykernel)",
   "language": "python",
   "name": "python3"
  },
  "language_info": {
   "codemirror_mode": {
    "name": "ipython",
    "version": 3
   },
   "file_extension": ".py",
   "mimetype": "text/x-python",
   "name": "python",
   "nbconvert_exporter": "python",
   "pygments_lexer": "ipython3",
   "version": "3.10.14"
  }
 },
 "nbformat": 4,
 "nbformat_minor": 4
}
